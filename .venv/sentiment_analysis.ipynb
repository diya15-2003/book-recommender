{
 "cells": [
  {
   "cell_type": "code",
   "execution_count": 1,
   "id": "02d89dc7",
   "metadata": {},
   "outputs": [],
   "source": [
    "import pandas as pd\n",
    "\n",
    "books = pd.read_csv(\"books_with_categories.csv\")"
   ]
  },
  {
   "cell_type": "code",
   "execution_count": 3,
   "id": "e39af4e5",
   "metadata": {},
   "outputs": [
    {
     "name": "stderr",
     "output_type": "stream",
     "text": [
      "Xet Storage is enabled for this repo, but the 'hf_xet' package is not installed. Falling back to regular HTTP download. For better performance, install the package with: `pip install huggingface_hub[hf_xet]` or `pip install hf_xet`\n"
     ]
    },
    {
     "data": {
      "application/vnd.jupyter.widget-view+json": {
       "model_id": "09457fffd59c4e22bb02f21adc1ffbe6",
       "version_major": 2,
       "version_minor": 0
      },
      "text/plain": [
       "pytorch_model.bin:  18%|#8        | 73.4M/402M [00:00<?, ?B/s]"
      ]
     },
     "metadata": {},
     "output_type": "display_data"
    },
    {
     "data": {
      "application/vnd.jupyter.widget-view+json": {
       "model_id": "68e048bccca848949b04b056626e219c",
       "version_major": 2,
       "version_minor": 0
      },
      "text/plain": [
       "tokenizer_config.json:   0%|          | 0.00/294 [00:00<?, ?B/s]"
      ]
     },
     "metadata": {},
     "output_type": "display_data"
    },
    {
     "data": {
      "application/vnd.jupyter.widget-view+json": {
       "model_id": "d842aa436898475499423f86b21df49a",
       "version_major": 2,
       "version_minor": 0
      },
      "text/plain": [
       "vocab.json:   0%|          | 0.00/798k [00:00<?, ?B/s]"
      ]
     },
     "metadata": {},
     "output_type": "display_data"
    },
    {
     "name": "stderr",
     "output_type": "stream",
     "text": [
      "Xet Storage is enabled for this repo, but the 'hf_xet' package is not installed. Falling back to regular HTTP download. For better performance, install the package with: `pip install huggingface_hub[hf_xet]` or `pip install hf_xet`\n"
     ]
    },
    {
     "data": {
      "application/vnd.jupyter.widget-view+json": {
       "model_id": "9dcee95d79c34cfc812e6530221897b5",
       "version_major": 2,
       "version_minor": 0
      },
      "text/plain": [
       "model.safetensors:   0%|          | 0.00/329M [00:00<?, ?B/s]"
      ]
     },
     "metadata": {},
     "output_type": "display_data"
    },
    {
     "data": {
      "application/vnd.jupyter.widget-view+json": {
       "model_id": "075ca5eeedbf4a6bad88eaebda3410ae",
       "version_major": 2,
       "version_minor": 0
      },
      "text/plain": [
       "merges.txt:   0%|          | 0.00/456k [00:00<?, ?B/s]"
      ]
     },
     "metadata": {},
     "output_type": "display_data"
    },
    {
     "data": {
      "application/vnd.jupyter.widget-view+json": {
       "model_id": "77b9110db27c41f885325606c48327f7",
       "version_major": 2,
       "version_minor": 0
      },
      "text/plain": [
       "tokenizer.json:   0%|          | 0.00/1.36M [00:00<?, ?B/s]"
      ]
     },
     "metadata": {},
     "output_type": "display_data"
    },
    {
     "data": {
      "application/vnd.jupyter.widget-view+json": {
       "model_id": "ae4579afd6ab407d90838b89ea78607f",
       "version_major": 2,
       "version_minor": 0
      },
      "text/plain": [
       "special_tokens_map.json:   0%|          | 0.00/239 [00:00<?, ?B/s]"
      ]
     },
     "metadata": {},
     "output_type": "display_data"
    },
    {
     "name": "stderr",
     "output_type": "stream",
     "text": [
      "Device set to use cpu\n"
     ]
    },
    {
     "data": {
      "text/plain": [
       "[[{'label': 'joy', 'score': 0.9771687984466553},\n",
       "  {'label': 'surprise', 'score': 0.008528673090040684},\n",
       "  {'label': 'neutral', 'score': 0.005764589179307222},\n",
       "  {'label': 'anger', 'score': 0.004419779404997826},\n",
       "  {'label': 'sadness', 'score': 0.002092391485348344},\n",
       "  {'label': 'disgust', 'score': 0.0016119909705594182},\n",
       "  {'label': 'fear', 'score': 0.00041385178337804973}]]"
      ]
     },
     "execution_count": 3,
     "metadata": {},
     "output_type": "execute_result"
    }
   ],
   "source": [
    "#useopen source model from hugging face\n",
    "#use text classification and emotion\n",
    "\n",
    "from transformers import pipeline\n",
    "classifier = pipeline(\"text-classification\", model=\"j-hartmann/emotion-english-distilroberta-base\",top_k = None)\n",
    "classifier(\"I love this!\")"
   ]
  },
  {
   "cell_type": "code",
   "execution_count": null,
   "id": "50ffa43b",
   "metadata": {},
   "outputs": [
    {
     "data": {
      "text/plain": [
       "'A NOVEL THAT READERS and critics have been eagerly anticipating for over a decade, Gilead is an astonishingly imagined story of remarkable lives. John Ames is a preacher, the son of a preacher and the grandson (both maternal and paternal) of preachers. It’s 1956 in Gilead, Iowa, towards the end of the Reverend Ames’s life, and he is absorbed in recording his family’s story, a legacy for the young son he will never see grow up. Haunted by his grandfather’s presence, John tells of the rift between his grandfather and his father: the elder, an angry visionary who fought for the abolitionist cause, and his son, an ardent pacifist. He is troubled, too, by his prodigal namesake, Jack (John Ames) Boughton, his best friend’s lost son who returns to Gilead searching for forgiveness and redemption. Told in John Ames’s joyous, rambling voice that finds beauty, humour and truth in the smallest of life’s details, Gilead is a song of celebration and acceptance of the best and the worst the world has to offer. At its heart is a tale of the sacred bonds between fathers and sons, pitch-perfect in style and story, set to dazzle critics and readers alike.'"
      ]
     },
     "execution_count": 4,
     "metadata": {},
     "output_type": "execute_result"
    }
   ],
   "source": [
    "# we can either get the sentiment classifier for eholw  emotion\n",
    "#or break down into sentence and then predict sentiment\n",
    "books[\"description\"][0]\n",
    "#eaxch sentence has its own emotion"
   ]
  },
  {
   "cell_type": "code",
   "execution_count": 6,
   "id": "b4a9a898",
   "metadata": {},
   "outputs": [
    {
     "data": {
      "text/plain": [
       "[[{'label': 'fear', 'score': 0.654840350151062},\n",
       "  {'label': 'neutral', 'score': 0.16985246539115906},\n",
       "  {'label': 'sadness', 'score': 0.11640927940607071},\n",
       "  {'label': 'surprise', 'score': 0.020700639113783836},\n",
       "  {'label': 'disgust', 'score': 0.01910078153014183},\n",
       "  {'label': 'joy', 'score': 0.015161330811679363},\n",
       "  {'label': 'anger', 'score': 0.003935159649699926}]]"
      ]
     },
     "execution_count": 6,
     "metadata": {},
     "output_type": "execute_result"
    }
   ],
   "source": [
    "#running sentiment analyzer for whole text\n",
    "classifier(books[\"description\"][0])\n",
    "#fearful doesnt seem so right. as the test is a mixture of multiple emotions\n",
    "#thus, we try to split it into multiple sentences"
   ]
  },
  {
   "cell_type": "code",
   "execution_count": 7,
   "id": "c387308f",
   "metadata": {},
   "outputs": [
    {
     "data": {
      "text/plain": [
       "[[{'label': 'surprise', 'score': 0.7296027541160583},\n",
       "  {'label': 'neutral', 'score': 0.14038583636283875},\n",
       "  {'label': 'fear', 'score': 0.06816205382347107},\n",
       "  {'label': 'joy', 'score': 0.04794234782457352},\n",
       "  {'label': 'anger', 'score': 0.009156357496976852},\n",
       "  {'label': 'disgust', 'score': 0.002628474263474345},\n",
       "  {'label': 'sadness', 'score': 0.0021221593488007784}],\n",
       " [{'label': 'neutral', 'score': 0.4493706524372101},\n",
       "  {'label': 'disgust', 'score': 0.2735919654369354},\n",
       "  {'label': 'joy', 'score': 0.10908292979001999},\n",
       "  {'label': 'sadness', 'score': 0.0936269760131836},\n",
       "  {'label': 'anger', 'score': 0.040478263050317764},\n",
       "  {'label': 'surprise', 'score': 0.026970189064741135},\n",
       "  {'label': 'fear', 'score': 0.006879049818962812}],\n",
       " [{'label': 'neutral', 'score': 0.6462164521217346},\n",
       "  {'label': 'sadness', 'score': 0.24273301661014557},\n",
       "  {'label': 'disgust', 'score': 0.04342259094119072},\n",
       "  {'label': 'surprise', 'score': 0.02830047905445099},\n",
       "  {'label': 'joy', 'score': 0.014211469329893589},\n",
       "  {'label': 'fear', 'score': 0.01408408209681511},\n",
       "  {'label': 'anger', 'score': 0.011031861416995525}],\n",
       " [{'label': 'fear', 'score': 0.9281682968139648},\n",
       "  {'label': 'anger', 'score': 0.03219084441661835},\n",
       "  {'label': 'neutral', 'score': 0.012808690778911114},\n",
       "  {'label': 'sadness', 'score': 0.008756875991821289},\n",
       "  {'label': 'surprise', 'score': 0.008597897365689278},\n",
       "  {'label': 'disgust', 'score': 0.008431820198893547},\n",
       "  {'label': 'joy', 'score': 0.0010455823503434658}],\n",
       " [{'label': 'sadness', 'score': 0.9671575427055359},\n",
       "  {'label': 'neutral', 'score': 0.015104164369404316},\n",
       "  {'label': 'disgust', 'score': 0.006480589509010315},\n",
       "  {'label': 'fear', 'score': 0.005393990781158209},\n",
       "  {'label': 'surprise', 'score': 0.0022869419772177935},\n",
       "  {'label': 'anger', 'score': 0.0018428893527016044},\n",
       "  {'label': 'joy', 'score': 0.0017338779289275408}],\n",
       " [{'label': 'joy', 'score': 0.9327975511550903},\n",
       "  {'label': 'disgust', 'score': 0.0377175509929657},\n",
       "  {'label': 'neutral', 'score': 0.015891877934336662},\n",
       "  {'label': 'sadness', 'score': 0.006444541737437248},\n",
       "  {'label': 'anger', 'score': 0.005025007762014866},\n",
       "  {'label': 'surprise', 'score': 0.0015812092460691929},\n",
       "  {'label': 'fear', 'score': 0.0005423094844445586}],\n",
       " [{'label': 'joy', 'score': 0.6528698801994324},\n",
       "  {'label': 'neutral', 'score': 0.25427526235580444},\n",
       "  {'label': 'surprise', 'score': 0.0680832639336586},\n",
       "  {'label': 'sadness', 'score': 0.00990900956094265},\n",
       "  {'label': 'disgust', 'score': 0.006512213032692671},\n",
       "  {'label': 'anger', 'score': 0.004821316339075565},\n",
       "  {'label': 'fear', 'score': 0.0035290205851197243}],\n",
       " [{'label': 'neutral', 'score': 0.5494767427444458},\n",
       "  {'label': 'sadness', 'score': 0.11169015616178513},\n",
       "  {'label': 'disgust', 'score': 0.10400672256946564},\n",
       "  {'label': 'surprise', 'score': 0.07876548916101456},\n",
       "  {'label': 'anger', 'score': 0.06413363665342331},\n",
       "  {'label': 'fear', 'score': 0.05136279761791229},\n",
       "  {'label': 'joy', 'score': 0.040564414113759995}]]"
      ]
     },
     "execution_count": 7,
     "metadata": {},
     "output_type": "execute_result"
    }
   ],
   "source": [
    "classifier(books[\"description\"][0].split(\".\"))"
   ]
  },
  {
   "cell_type": "code",
   "execution_count": 9,
   "id": "d58fbab8",
   "metadata": {},
   "outputs": [],
   "source": [
    "sentences = books[\"description\"][0].split(\".\")\n",
    "predictions = classifier(sentences)"
   ]
  },
  {
   "cell_type": "code",
   "execution_count": 10,
   "id": "f59dc448",
   "metadata": {},
   "outputs": [
    {
     "data": {
      "text/plain": [
       "'A NOVEL THAT READERS and critics have been eagerly anticipating for over a decade, Gilead is an astonishingly imagined story of remarkable lives'"
      ]
     },
     "execution_count": 10,
     "metadata": {},
     "output_type": "execute_result"
    }
   ],
   "source": [
    "sentences[0]"
   ]
  },
  {
   "cell_type": "code",
   "execution_count": 11,
   "id": "f1fc1ad4",
   "metadata": {},
   "outputs": [
    {
     "data": {
      "text/plain": [
       "[{'label': 'surprise', 'score': 0.7296027541160583},\n",
       " {'label': 'neutral', 'score': 0.14038583636283875},\n",
       " {'label': 'fear', 'score': 0.06816205382347107},\n",
       " {'label': 'joy', 'score': 0.04794234782457352},\n",
       " {'label': 'anger', 'score': 0.009156357496976852},\n",
       " {'label': 'disgust', 'score': 0.002628474263474345},\n",
       " {'label': 'sadness', 'score': 0.0021221593488007784}]"
      ]
     },
     "execution_count": 11,
     "metadata": {},
     "output_type": "execute_result"
    }
   ],
   "source": [
    "predictions[0]"
   ]
  },
  {
   "cell_type": "code",
   "execution_count": 12,
   "id": "6aee66ba",
   "metadata": {},
   "outputs": [
    {
     "data": {
      "text/plain": [
       "' Haunted by his grandfather’s presence, John tells of the rift between his grandfather and his father: the elder, an angry visionary who fought for the abolitionist cause, and his son, an ardent pacifist'"
      ]
     },
     "execution_count": 12,
     "metadata": {},
     "output_type": "execute_result"
    }
   ],
   "source": [
    "sentences[3]"
   ]
  },
  {
   "cell_type": "code",
   "execution_count": null,
   "id": "4854448e",
   "metadata": {},
   "outputs": [
    {
     "data": {
      "text/plain": [
       "[{'label': 'fear', 'score': 0.9281682968139648},\n",
       " {'label': 'anger', 'score': 0.03219084441661835},\n",
       " {'label': 'neutral', 'score': 0.012808690778911114},\n",
       " {'label': 'sadness', 'score': 0.008756875991821289},\n",
       " {'label': 'surprise', 'score': 0.008597897365689278},\n",
       " {'label': 'disgust', 'score': 0.008431820198893547},\n",
       " {'label': 'joy', 'score': 0.0010455823503434658}]"
      ]
     },
     "execution_count": 13,
     "metadata": {},
     "output_type": "execute_result"
    }
   ],
   "source": [
    "predictions[3] #good job"
   ]
  },
  {
   "cell_type": "code",
   "execution_count": 14,
   "id": "8725e4cc",
   "metadata": {},
   "outputs": [],
   "source": [
    "#it does complicate thins as multiple emotions are noe associated. \n",
    "#how to make sense of this\n",
    "# for each book have seperate columns for each emotion classes\n",
    "#and instead of assigning category, take the highest probability fo the particular sentiment\n",
    "#we need to process the output of the predictor and call it in such a way , that it ony give one max score"
   ]
  },
  {
   "cell_type": "code",
   "execution_count": null,
   "id": "e6dc4d96",
   "metadata": {},
   "outputs": [
    {
     "data": {
      "text/plain": [
       "[{'label': 'anger', 'score': 0.009156357496976852},\n",
       " {'label': 'disgust', 'score': 0.002628474263474345},\n",
       " {'label': 'fear', 'score': 0.06816205382347107},\n",
       " {'label': 'joy', 'score': 0.04794234782457352},\n",
       " {'label': 'neutral', 'score': 0.14038583636283875},\n",
       " {'label': 'sadness', 'score': 0.0021221593488007784},\n",
       " {'label': 'surprise', 'score': 0.7296027541160583}]"
      ]
     },
     "execution_count": 15,
     "metadata": {},
     "output_type": "execute_result"
    }
   ],
   "source": [
    "sorted(predictions[0], key = lambda x:x[\"label\"])\n",
    "#for each sentence, there will be same order for each emotion"
   ]
  },
  {
   "cell_type": "code",
   "execution_count": null,
   "id": "1fd44e52",
   "metadata": {},
   "outputs": [],
   "source": [
    "import numpy as np\n",
    "\n",
    "#a dictionary\n",
    "emotion_labels = [\"anger\",\"disgust\",\"fear\",\"joy\",\"sadness\",\"suprise\",\"neutral\"]\n",
    "isbn = [] # merge it back later \n",
    "emotion_scores = {label:[]for label in emotion_labels}\n",
    "\n",
    "def calculate_max_emotion_scores(predictions):\n",
    "    per_emotion_scores = {label: [] for label in emotion_labels}\n",
    "    for prediction in predictions:\n",
    "        sorted_predictions = sorted(prediction, key = lambda x:x[\"label\"])#eaxh emotion is sortde for a sentence\n",
    "        for index, label in enumerate(emotion_labels):\n",
    "            per_emotion_scores[label].append(sorted_predictions[index][\"score\"])\n",
    "    return {label: np.max(scores) for label, scores in per_emotion_scores.items()}"
   ]
  },
  {
   "cell_type": "code",
   "execution_count": 18,
   "id": "b1bd6b5e",
   "metadata": {},
   "outputs": [],
   "source": [
    "for i in range(10):\n",
    "    isbn.append(books[\"isbn13\"][i])\n",
    "    sentences = books[\"description\"][i].split(\".\")\n",
    "    predictions = classifier(sentences)\n",
    "    max_scores = calculate_max_emotion_scores(predictions)\n",
    "    for label in emotion_labels:\n",
    "        emotion_scores[label].append(max_scores[label])"
   ]
  },
  {
   "cell_type": "code",
   "execution_count": 19,
   "id": "bda50e3a",
   "metadata": {},
   "outputs": [
    {
     "data": {
      "text/plain": [
       "{'anger': [np.float64(0.06413363665342331),\n",
       "  np.float64(0.6126180291175842),\n",
       "  np.float64(0.06413363665342331),\n",
       "  np.float64(0.3514833450317383),\n",
       "  np.float64(0.08141230791807175),\n",
       "  np.float64(0.232224702835083),\n",
       "  np.float64(0.5381839871406555),\n",
       "  np.float64(0.06413363665342331),\n",
       "  np.float64(0.30066946148872375),\n",
       "  np.float64(0.06413363665342331)],\n",
       " 'disgust': [np.float64(0.2735919654369354),\n",
       "  np.float64(0.3482837677001953),\n",
       "  np.float64(0.10400672256946564),\n",
       "  np.float64(0.15072272717952728),\n",
       "  np.float64(0.18449506163597107),\n",
       "  np.float64(0.7271749377250671),\n",
       "  np.float64(0.1558549404144287),\n",
       "  np.float64(0.10400672256946564),\n",
       "  np.float64(0.2794814705848694),\n",
       "  np.float64(0.1779269278049469)],\n",
       " 'fear': [np.float64(0.9281682968139648),\n",
       "  np.float64(0.9425276517868042),\n",
       "  np.float64(0.9723208546638489),\n",
       "  np.float64(0.36070677638053894),\n",
       "  np.float64(0.0950433686375618),\n",
       "  np.float64(0.05136279761791229),\n",
       "  np.float64(0.7474280595779419),\n",
       "  np.float64(0.4044977128505707),\n",
       "  np.float64(0.9155242443084717),\n",
       "  np.float64(0.05136279761791229)],\n",
       " 'joy': [np.float64(0.9327975511550903),\n",
       "  np.float64(0.7044215798377991),\n",
       "  np.float64(0.7672374844551086),\n",
       "  np.float64(0.25188058614730835),\n",
       "  np.float64(0.040564414113759995),\n",
       "  np.float64(0.04337584972381592),\n",
       "  np.float64(0.872565746307373),\n",
       "  np.float64(0.040564414113759995),\n",
       "  np.float64(0.040564414113759995),\n",
       "  np.float64(0.040564414113759995)],\n",
       " 'sadness': [np.float64(0.6462164521217346),\n",
       "  np.float64(0.887939453125),\n",
       "  np.float64(0.5494767427444458),\n",
       "  np.float64(0.7326856255531311),\n",
       "  np.float64(0.8843896389007568),\n",
       "  np.float64(0.6213929057121277),\n",
       "  np.float64(0.7121946215629578),\n",
       "  np.float64(0.5494767427444458),\n",
       "  np.float64(0.8402893543243408),\n",
       "  np.float64(0.8603722453117371)],\n",
       " 'suprise': [np.float64(0.9671575427055359),\n",
       "  np.float64(0.11169015616178513),\n",
       "  np.float64(0.11169015616178513),\n",
       "  np.float64(0.11169015616178513),\n",
       "  np.float64(0.47588053345680237),\n",
       "  np.float64(0.11169015616178513),\n",
       "  np.float64(0.40799951553344727),\n",
       "  np.float64(0.8202822208404541),\n",
       "  np.float64(0.3544602692127228),\n",
       "  np.float64(0.11169015616178513)],\n",
       " 'neutral': [np.float64(0.7296027541160583),\n",
       "  np.float64(0.2525442838668823),\n",
       "  np.float64(0.07876548916101456),\n",
       "  np.float64(0.07876548916101456),\n",
       "  np.float64(0.07876548916101456),\n",
       "  np.float64(0.271902471780777),\n",
       "  np.float64(0.07876548916101456),\n",
       "  np.float64(0.23448678851127625),\n",
       "  np.float64(0.13561469316482544),\n",
       "  np.float64(0.07876548916101456)]}"
      ]
     },
     "execution_count": 19,
     "metadata": {},
     "output_type": "execute_result"
    }
   ],
   "source": [
    "emotion_scores"
   ]
  },
  {
   "cell_type": "code",
   "execution_count": 21,
   "id": "a43b310f",
   "metadata": {},
   "outputs": [
    {
     "name": "stderr",
     "output_type": "stream",
     "text": [
      "100%|██████████| 5197/5197 [22:56<00:00,  3.78it/s] \n"
     ]
    }
   ],
   "source": [
    "from tqdm import tqdm\n",
    "\n",
    "emotion_labels = [\"anger\",\"disgust\",\"fear\",\"joy\",\"sadness\",\"suprise\",\"neutral\"]\n",
    "isbn = [] # merge it back later \n",
    "emotion_scores = {label:[]for label in emotion_labels}\n",
    "\n",
    "for i in tqdm(range(len(books))):\n",
    "    isbn.append(books[\"isbn13\"][i])\n",
    "    sentences = books[\"description\"][i].split(\".\")\n",
    "    predictions = classifier(sentences)\n",
    "    max_scores = calculate_max_emotion_scores(predictions)\n",
    "    for label in emotion_labels:\n",
    "        emotion_scores[label].append(max_scores[label])"
   ]
  },
  {
   "cell_type": "code",
   "execution_count": 22,
   "id": "8db9f711",
   "metadata": {},
   "outputs": [],
   "source": [
    "emotions_df = pd.DataFrame(emotion_scores)\n",
    "emotions_df[\"isbn13\"] = isbn"
   ]
  },
  {
   "cell_type": "code",
   "execution_count": 23,
   "id": "f21f2ecc",
   "metadata": {},
   "outputs": [
    {
     "data": {
      "text/html": [
       "<div>\n",
       "<style scoped>\n",
       "    .dataframe tbody tr th:only-of-type {\n",
       "        vertical-align: middle;\n",
       "    }\n",
       "\n",
       "    .dataframe tbody tr th {\n",
       "        vertical-align: top;\n",
       "    }\n",
       "\n",
       "    .dataframe thead th {\n",
       "        text-align: right;\n",
       "    }\n",
       "</style>\n",
       "<table border=\"1\" class=\"dataframe\">\n",
       "  <thead>\n",
       "    <tr style=\"text-align: right;\">\n",
       "      <th></th>\n",
       "      <th>anger</th>\n",
       "      <th>disgust</th>\n",
       "      <th>fear</th>\n",
       "      <th>joy</th>\n",
       "      <th>sadness</th>\n",
       "      <th>suprise</th>\n",
       "      <th>neutral</th>\n",
       "      <th>isbn13</th>\n",
       "    </tr>\n",
       "  </thead>\n",
       "  <tbody>\n",
       "    <tr>\n",
       "      <th>0</th>\n",
       "      <td>0.064134</td>\n",
       "      <td>0.273592</td>\n",
       "      <td>0.928168</td>\n",
       "      <td>0.932798</td>\n",
       "      <td>0.646216</td>\n",
       "      <td>0.967158</td>\n",
       "      <td>0.729603</td>\n",
       "      <td>9780002005883</td>\n",
       "    </tr>\n",
       "    <tr>\n",
       "      <th>1</th>\n",
       "      <td>0.612618</td>\n",
       "      <td>0.348284</td>\n",
       "      <td>0.942528</td>\n",
       "      <td>0.704422</td>\n",
       "      <td>0.887939</td>\n",
       "      <td>0.111690</td>\n",
       "      <td>0.252544</td>\n",
       "      <td>9780002261982</td>\n",
       "    </tr>\n",
       "    <tr>\n",
       "      <th>2</th>\n",
       "      <td>0.064134</td>\n",
       "      <td>0.104007</td>\n",
       "      <td>0.972321</td>\n",
       "      <td>0.767237</td>\n",
       "      <td>0.549477</td>\n",
       "      <td>0.111690</td>\n",
       "      <td>0.078765</td>\n",
       "      <td>9780006178736</td>\n",
       "    </tr>\n",
       "    <tr>\n",
       "      <th>3</th>\n",
       "      <td>0.351483</td>\n",
       "      <td>0.150723</td>\n",
       "      <td>0.360707</td>\n",
       "      <td>0.251881</td>\n",
       "      <td>0.732686</td>\n",
       "      <td>0.111690</td>\n",
       "      <td>0.078765</td>\n",
       "      <td>9780006280897</td>\n",
       "    </tr>\n",
       "    <tr>\n",
       "      <th>4</th>\n",
       "      <td>0.081412</td>\n",
       "      <td>0.184495</td>\n",
       "      <td>0.095043</td>\n",
       "      <td>0.040564</td>\n",
       "      <td>0.884390</td>\n",
       "      <td>0.475881</td>\n",
       "      <td>0.078765</td>\n",
       "      <td>9780006280934</td>\n",
       "    </tr>\n",
       "  </tbody>\n",
       "</table>\n",
       "</div>"
      ],
      "text/plain": [
       "      anger   disgust      fear       joy   sadness   suprise   neutral  \\\n",
       "0  0.064134  0.273592  0.928168  0.932798  0.646216  0.967158  0.729603   \n",
       "1  0.612618  0.348284  0.942528  0.704422  0.887939  0.111690  0.252544   \n",
       "2  0.064134  0.104007  0.972321  0.767237  0.549477  0.111690  0.078765   \n",
       "3  0.351483  0.150723  0.360707  0.251881  0.732686  0.111690  0.078765   \n",
       "4  0.081412  0.184495  0.095043  0.040564  0.884390  0.475881  0.078765   \n",
       "\n",
       "          isbn13  \n",
       "0  9780002005883  \n",
       "1  9780002261982  \n",
       "2  9780006178736  \n",
       "3  9780006280897  \n",
       "4  9780006280934  "
      ]
     },
     "execution_count": 23,
     "metadata": {},
     "output_type": "execute_result"
    }
   ],
   "source": [
    "emotions_df.head()"
   ]
  },
  {
   "cell_type": "code",
   "execution_count": 24,
   "id": "456a6e8e",
   "metadata": {},
   "outputs": [],
   "source": [
    "books = pd.merge(books, emotions_df, on = \"isbn13\")"
   ]
  },
  {
   "cell_type": "code",
   "execution_count": 25,
   "id": "0d6b3680",
   "metadata": {},
   "outputs": [],
   "source": [
    "books.to_csv(\"books_with_emotions.csv\", index = False)"
   ]
  }
 ],
 "metadata": {
  "kernelspec": {
   "display_name": ".venv",
   "language": "python",
   "name": "python3"
  },
  "language_info": {
   "codemirror_mode": {
    "name": "ipython",
    "version": 3
   },
   "file_extension": ".py",
   "mimetype": "text/x-python",
   "name": "python",
   "nbconvert_exporter": "python",
   "pygments_lexer": "ipython3",
   "version": "3.10.1"
  }
 },
 "nbformat": 4,
 "nbformat_minor": 5
}
